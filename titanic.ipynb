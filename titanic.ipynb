{
 "cells": [
  {
   "cell_type": "code",
   "execution_count": 7,
   "id": "38c3e88a-e603-4a2c-8ac6-d3d56bb00d8b",
   "metadata": {},
   "outputs": [],
   "source": [
    "import numpy as np\n",
    "import pandas as pd"
   ]
  },
  {
   "cell_type": "code",
   "execution_count": 8,
   "id": "de49c86a-d61e-42ca-9471-e79f228a34cb",
   "metadata": {},
   "outputs": [],
   "source": [
    "from pyspark.sql import SparkSession\n",
    "from pyspark.ml import Pipeline\n",
    "import pyspark.sql.functions as F\n",
    "from pyspark.sql.types import *\n",
    "from pyspark.ml.feature import StringIndexer, VectorAssembler, QuantileDiscretizer\n",
    "from pyspark.ml.evaluation import *\n",
    "from pyspark import SparkContext\n",
    "from pyspark.ml.classification import RandomForestClassifier\n",
    "from pyspark.ml.evaluation import MulticlassClassificationEvaluator"
   ]
  },
  {
   "cell_type": "code",
   "execution_count": 9,
   "id": "548922c5-b52c-4fd3-a7ce-48aacc3c9da8",
   "metadata": {},
   "outputs": [
    {
     "name": "stderr",
     "output_type": "stream",
     "text": [
      "24/07/18 10:49:17 WARN Utils: Your hostname, gimsehyeon-ui-MacBookPro.local resolves to a loopback address: 127.0.0.1; using 172.30.1.79 instead (on interface en0)\n",
      "24/07/18 10:49:17 WARN Utils: Set SPARK_LOCAL_IP if you need to bind to another address\n",
      "Setting default log level to \"WARN\".\n",
      "To adjust logging level use sc.setLogLevel(newLevel). For SparkR, use setLogLevel(newLevel).\n",
      "24/07/18 10:49:18 WARN NativeCodeLoader: Unable to load native-hadoop library for your platform... using builtin-java classes where applicable\n"
     ]
    }
   ],
   "source": [
    "spark = SparkSession.builder.appName(\"Spark on Titanic Data\").getOrCreate()"
   ]
  },
  {
   "cell_type": "code",
   "execution_count": 10,
   "id": "da57f782-fb35-413c-b238-1efd53955942",
   "metadata": {},
   "outputs": [
    {
     "name": "stderr",
     "output_type": "stream",
     "text": [
      "                                                                                \r"
     ]
    }
   ],
   "source": [
    "train = spark.read.csv('./train.csv', header=True, inferSchema=True)\n",
    "test = spark.read.csv('./train.csv', header=True, inferSchema=True)"
   ]
  },
  {
   "cell_type": "code",
   "execution_count": 11,
   "id": "bb04246b-44e3-41dc-906b-8a1877289780",
   "metadata": {},
   "outputs": [
    {
     "name": "stdout",
     "output_type": "stream",
     "text": [
      "+-----------+--------+------+--------------------+------+----+-----+-----+----------------+-------+-----+--------+\n",
      "|PassengerId|Survived|Pclass|                Name|   Sex| Age|SibSp|Parch|          Ticket|   Fare|Cabin|Embarked|\n",
      "+-----------+--------+------+--------------------+------+----+-----+-----+----------------+-------+-----+--------+\n",
      "|          1|       0|     3|Braund, Mr. Owen ...|  male|22.0|    1|    0|       A/5 21171|   7.25| NULL|       S|\n",
      "|          2|       1|     1|Cumings, Mrs. Joh...|female|38.0|    1|    0|        PC 17599|71.2833|  C85|       C|\n",
      "|          3|       1|     3|Heikkinen, Miss. ...|female|26.0|    0|    0|STON/O2. 3101282|  7.925| NULL|       S|\n",
      "|          4|       1|     1|Futrelle, Mrs. Ja...|female|35.0|    1|    0|          113803|   53.1| C123|       S|\n",
      "|          5|       0|     3|Allen, Mr. Willia...|  male|35.0|    0|    0|          373450|   8.05| NULL|       S|\n",
      "|          6|       0|     3|    Moran, Mr. James|  male|NULL|    0|    0|          330877| 8.4583| NULL|       Q|\n",
      "|          7|       0|     1|McCarthy, Mr. Tim...|  male|54.0|    0|    0|           17463|51.8625|  E46|       S|\n",
      "|          8|       0|     3|Palsson, Master. ...|  male| 2.0|    3|    1|          349909| 21.075| NULL|       S|\n",
      "|          9|       1|     3|Johnson, Mrs. Osc...|female|27.0|    0|    2|          347742|11.1333| NULL|       S|\n",
      "|         10|       1|     2|Nasser, Mrs. Nich...|female|14.0|    1|    0|          237736|30.0708| NULL|       C|\n",
      "+-----------+--------+------+--------------------+------+----+-----+-----+----------------+-------+-----+--------+\n",
      "only showing top 10 rows\n",
      "\n",
      "+-----------+--------+------+--------------------+------+----+-----+-----+----------------+-------+-----+--------+\n",
      "|PassengerId|Survived|Pclass|                Name|   Sex| Age|SibSp|Parch|          Ticket|   Fare|Cabin|Embarked|\n",
      "+-----------+--------+------+--------------------+------+----+-----+-----+----------------+-------+-----+--------+\n",
      "|          1|       0|     3|Braund, Mr. Owen ...|  male|22.0|    1|    0|       A/5 21171|   7.25| NULL|       S|\n",
      "|          2|       1|     1|Cumings, Mrs. Joh...|female|38.0|    1|    0|        PC 17599|71.2833|  C85|       C|\n",
      "|          3|       1|     3|Heikkinen, Miss. ...|female|26.0|    0|    0|STON/O2. 3101282|  7.925| NULL|       S|\n",
      "|          4|       1|     1|Futrelle, Mrs. Ja...|female|35.0|    1|    0|          113803|   53.1| C123|       S|\n",
      "|          5|       0|     3|Allen, Mr. Willia...|  male|35.0|    0|    0|          373450|   8.05| NULL|       S|\n",
      "|          6|       0|     3|    Moran, Mr. James|  male|NULL|    0|    0|          330877| 8.4583| NULL|       Q|\n",
      "|          7|       0|     1|McCarthy, Mr. Tim...|  male|54.0|    0|    0|           17463|51.8625|  E46|       S|\n",
      "|          8|       0|     3|Palsson, Master. ...|  male| 2.0|    3|    1|          349909| 21.075| NULL|       S|\n",
      "|          9|       1|     3|Johnson, Mrs. Osc...|female|27.0|    0|    2|          347742|11.1333| NULL|       S|\n",
      "|         10|       1|     2|Nasser, Mrs. Nich...|female|14.0|    1|    0|          237736|30.0708| NULL|       C|\n",
      "+-----------+--------+------+--------------------+------+----+-----+-----+----------------+-------+-----+--------+\n",
      "only showing top 10 rows\n",
      "\n"
     ]
    }
   ],
   "source": [
    "train.show(10)\n",
    "test.show(10)"
   ]
  },
  {
   "cell_type": "code",
   "execution_count": 12,
   "id": "30c1a8e9-7968-4388-b5c3-6468f6269433",
   "metadata": {},
   "outputs": [
    {
     "name": "stdout",
     "output_type": "stream",
     "text": [
      "891\n"
     ]
    }
   ],
   "source": [
    "train_count = train.count()\n",
    "print(train_count)"
   ]
  },
  {
   "cell_type": "code",
   "execution_count": 13,
   "id": "0c607dbe-3c00-44f3-8603-71af15150f9e",
   "metadata": {},
   "outputs": [],
   "source": [
    "survived_groupped_df = train.groupBy(\"Survived\").count()"
   ]
  },
  {
   "cell_type": "code",
   "execution_count": 14,
   "id": "3f54c5c3-1b5f-4000-9be1-d9375d221211",
   "metadata": {},
   "outputs": [
    {
     "name": "stdout",
     "output_type": "stream",
     "text": [
      "+--------+-----+\n",
      "|Survived|count|\n",
      "+--------+-----+\n",
      "|       1|  342|\n",
      "|       0|  549|\n",
      "+--------+-----+\n",
      "\n"
     ]
    }
   ],
   "source": [
    "survived_groupped_df.show()"
   ]
  },
  {
   "cell_type": "code",
   "execution_count": 15,
   "id": "76639d98-082f-43fb-9560-7a50fb609530",
   "metadata": {},
   "outputs": [],
   "source": [
    "getRatio = F.udf(lambda x: round(x/train_count,2), DoubleType())\n",
    "survived_groupped_df = survived_groupped_df.withColumn(\"Ratio\", getRatio('count'))"
   ]
  },
  {
   "cell_type": "code",
   "execution_count": 16,
   "id": "8f5e557a-607a-4eb3-a79b-aa9693915b40",
   "metadata": {},
   "outputs": [
    {
     "name": "stdout",
     "output_type": "stream",
     "text": [
      "+--------+-----+-----+\n",
      "|Survived|count|Ratio|\n",
      "+--------+-----+-----+\n",
      "|       1|  342| 0.38|\n",
      "|       0|  549| 0.62|\n",
      "+--------+-----+-----+\n",
      "\n"
     ]
    },
    {
     "name": "stderr",
     "output_type": "stream",
     "text": [
      "                                                                                \r"
     ]
    }
   ],
   "source": [
    "survived_groupped_df.show()\n",
    "\n",
    "# 62% was survived, 38% died"
   ]
  },
  {
   "cell_type": "code",
   "execution_count": 17,
   "id": "0004aa3f-af5b-47cd-b588-e89718328581",
   "metadata": {},
   "outputs": [
    {
     "name": "stdout",
     "output_type": "stream",
     "text": [
      "+------+-----+\n",
      "|   Sex|count|\n",
      "+------+-----+\n",
      "|female|  314|\n",
      "|  male|  577|\n",
      "+------+-----+\n",
      "\n"
     ]
    }
   ],
   "source": [
    "train.groupBy(\"Sex\").count().show()"
   ]
  },
  {
   "cell_type": "code",
   "execution_count": 18,
   "id": "8e6a5f4e-28a6-473f-8496-55cc18ee2859",
   "metadata": {},
   "outputs": [
    {
     "name": "stdout",
     "output_type": "stream",
     "text": [
      "+------+-------------------+-------------+\n",
      "|   Sex|      avg(Survived)|sum(Survived)|\n",
      "+------+-------------------+-------------+\n",
      "|female| 0.7420382165605095|          233|\n",
      "|  male|0.18890814558058924|          109|\n",
      "+------+-------------------+-------------+\n",
      "\n"
     ]
    }
   ],
   "source": [
    "train.groupBy(\"Sex\").agg(F.mean('Survived'), F.sum('Survived')).show()\n",
    "\n",
    "# Most of women survived"
   ]
  },
  {
   "cell_type": "code",
   "execution_count": 19,
   "id": "cffaa224-6864-4e5c-97fa-b0f0cad93625",
   "metadata": {},
   "outputs": [],
   "source": [
    "train.createOrReplaceTempView('train')"
   ]
  },
  {
   "cell_type": "code",
   "execution_count": 20,
   "id": "b0f2f229-be93-4ab2-a418-a2add7770174",
   "metadata": {},
   "outputs": [
    {
     "name": "stdout",
     "output_type": "stream",
     "text": [
      "+------+-----+\n",
      "|   Sex|ratio|\n",
      "+------+-----+\n",
      "|female| 0.74|\n",
      "|  male| 0.19|\n",
      "+------+-----+\n",
      "\n"
     ]
    }
   ],
   "source": [
    "spark.sql(\"SELECT Sex, round(SUM(Survived)/count(1), 2) as ratio FROM train GROUP BY Sex\").show()\n",
    "\n",
    "# 74% of the female were survived, 19% of men were survived"
   ]
  },
  {
   "cell_type": "code",
   "execution_count": 21,
   "id": "613e4cac-77fe-4d0b-ab39-0fe0f18feb80",
   "metadata": {},
   "outputs": [],
   "source": [
    "combined = train.union(test)"
   ]
  },
  {
   "cell_type": "code",
   "execution_count": 22,
   "id": "08c6fc18-61ec-4e02-91c3-72f2c454367b",
   "metadata": {},
   "outputs": [
    {
     "data": {
      "text/plain": [
       "1782"
      ]
     },
     "execution_count": 22,
     "metadata": {},
     "output_type": "execute_result"
    }
   ],
   "source": [
    "combined.count()"
   ]
  },
  {
   "cell_type": "code",
   "execution_count": 23,
   "id": "9292f80c-a956-4a1f-bf84-7b6000d6466a",
   "metadata": {},
   "outputs": [],
   "source": [
    "combined.createOrReplaceTempView(\"combined\")"
   ]
  },
  {
   "cell_type": "code",
   "execution_count": 24,
   "id": "05ae9ec6-de2e-454d-999d-da5567f650f0",
   "metadata": {},
   "outputs": [
    {
     "name": "stdout",
     "output_type": "stream",
     "text": [
      "[['Age', 354], ['Cabin', 1374], ['Embarked', 4]]\n"
     ]
    }
   ],
   "source": [
    "null_columns = []\n",
    "\n",
    "for col_name in combined.columns:\n",
    "    null_values = combined.where(F.col(col_name).isNull()).count()\n",
    "    if null_values > 0:\n",
    "        null_columns.append([col_name, null_values])\n",
    "\n",
    "print(null_columns)"
   ]
  },
  {
   "cell_type": "code",
   "execution_count": 25,
   "id": "3b9e2851-3384-4eae-a684-bc70700eb37e",
   "metadata": {},
   "outputs": [
    {
     "name": "stdout",
     "output_type": "stream",
     "text": [
      "+--------+-------------+\n",
      "|  column|missing_value|\n",
      "+--------+-------------+\n",
      "|     Age|          354|\n",
      "|   Cabin|         1374|\n",
      "|Embarked|            4|\n",
      "+--------+-------------+\n",
      "\n"
     ]
    }
   ],
   "source": [
    "spark.createDataFrame(null_columns, ['column', 'missing_value']).show()"
   ]
  },
  {
   "cell_type": "code",
   "execution_count": 26,
   "id": "d057e826-64da-4dad-b067-2e080881ea2b",
   "metadata": {},
   "outputs": [
    {
     "name": "stdout",
     "output_type": "stream",
     "text": [
      "+--------------------+\n",
      "|                Name|\n",
      "+--------------------+\n",
      "|Braund, Mr. Owen ...|\n",
      "|Cumings, Mrs. Joh...|\n",
      "|Heikkinen, Miss. ...|\n",
      "|Futrelle, Mrs. Ja...|\n",
      "|Allen, Mr. Willia...|\n",
      "|    Moran, Mr. James|\n",
      "|McCarthy, Mr. Tim...|\n",
      "|Palsson, Master. ...|\n",
      "|Johnson, Mrs. Osc...|\n",
      "|Nasser, Mrs. Nich...|\n",
      "|Sandstrom, Miss. ...|\n",
      "|Bonnell, Miss. El...|\n",
      "|Saundercock, Mr. ...|\n",
      "|Andersson, Mr. An...|\n",
      "|Vestrom, Miss. Hu...|\n",
      "|Hewlett, Mrs. (Ma...|\n",
      "|Rice, Master. Eugene|\n",
      "|Williams, Mr. Cha...|\n",
      "|Vander Planke, Mr...|\n",
      "|Masselmani, Mrs. ...|\n",
      "+--------------------+\n",
      "only showing top 20 rows\n",
      "\n"
     ]
    }
   ],
   "source": [
    "combined.select('Name').show()"
   ]
  },
  {
   "cell_type": "code",
   "execution_count": 27,
   "id": "496dc85e-5cf1-4230-9b7a-120e4936d924",
   "metadata": {},
   "outputs": [],
   "source": [
    "# Get the title from name\n",
    "combined = combined.withColumn('Title',F.regexp_extract(F.col(\"Name\"),\"([A-Za-z]+)\\.\",1))"
   ]
  },
  {
   "cell_type": "code",
   "execution_count": 28,
   "id": "d580328b-932e-4124-9c32-b11d37c6c1ea",
   "metadata": {},
   "outputs": [
    {
     "name": "stdout",
     "output_type": "stream",
     "text": [
      "+--------+--------+\n",
      "|   Title|count(1)|\n",
      "+--------+--------+\n",
      "|     Don|       2|\n",
      "|    Miss|     364|\n",
      "|Countess|       2|\n",
      "|     Col|       4|\n",
      "|     Rev|      12|\n",
      "|    Lady|       2|\n",
      "|  Master|      80|\n",
      "|     Mme|       2|\n",
      "|    Capt|       2|\n",
      "|      Mr|    1034|\n",
      "|      Dr|      14|\n",
      "|     Mrs|     250|\n",
      "|     Sir|       2|\n",
      "|Jonkheer|       2|\n",
      "|    Mlle|       4|\n",
      "|   Major|       4|\n",
      "|      Ms|       2|\n",
      "+--------+--------+\n",
      "\n"
     ]
    }
   ],
   "source": [
    "combined.createOrReplaceTempView('combined')\n",
    "spark.sql(\"SELECT Title, count(1) FROM combined GROUP BY Title\").show()"
   ]
  },
  {
   "cell_type": "code",
   "execution_count": 29,
   "id": "6821b1dc-6092-41c0-9fef-089770f0d65d",
   "metadata": {},
   "outputs": [],
   "source": [
    "# Dr, Rev, Major, Col, Mlle, Capt, Don ... are rare. \n",
    "titles_map = {\n",
    " 'Capt' : 'Rare',\n",
    " 'Col' : 'Rare',\n",
    " 'Don': 'Rare',\n",
    " 'Dona': 'Rare',\n",
    " 'Dr' : 'Rare',\n",
    " 'Jonkheer' :'Rare' ,\n",
    " 'Lady': 'Rare',\n",
    " 'Major': 'Rare',\n",
    " 'Master': 'Master',\n",
    " 'Miss' : 'Miss',\n",
    " 'Mlle' : 'Rare',\n",
    " 'Mme': 'Rare',\n",
    " 'Mr': 'Mr',\n",
    " 'Mrs': 'Mrs',\n",
    " 'Ms': 'Rare',\n",
    " 'Rev': 'Rare',\n",
    " 'Sir': 'Rare',\n",
    " 'Countess': 'Rare'\n",
    "}\n",
    "def impute_title(title):\n",
    "    return titles_map[title]\n",
    "\n",
    "title_map_func = F.udf(lambda x: impute_title(x), StringType())\n",
    "\n",
    "combined = combined.withColumn('Title', title_map_func('Title'))\n",
    "    "
   ]
  },
  {
   "cell_type": "code",
   "execution_count": 30,
   "id": "6b3131fc-b6ea-4063-9309-5a66008490d7",
   "metadata": {},
   "outputs": [
    {
     "name": "stdout",
     "output_type": "stream",
     "text": [
      "+------+\n",
      "| Title|\n",
      "+------+\n",
      "|  Miss|\n",
      "|Master|\n",
      "|    Mr|\n",
      "|   Mrs|\n",
      "|  Rare|\n",
      "+------+\n",
      "\n"
     ]
    }
   ],
   "source": [
    "combined.createOrReplaceTempView('combined')\n",
    "spark.sql(\"SELECT Title FROM combined GROUP BY Title\").show()"
   ]
  },
  {
   "cell_type": "code",
   "execution_count": 31,
   "id": "1a55867f-3425-4262-befa-82a323ed5a7b",
   "metadata": {},
   "outputs": [
    {
     "data": {
      "text/plain": [
       "30"
      ]
     },
     "execution_count": 31,
     "metadata": {},
     "output_type": "execute_result"
    }
   ],
   "source": [
    "round(spark.sql(\"SELECT AVG(Age) FROM combined\").collect()[0][0])"
   ]
  },
  {
   "cell_type": "code",
   "execution_count": 32,
   "id": "9fecb245-31c2-476d-bed9-b46385ad5cff",
   "metadata": {},
   "outputs": [],
   "source": [
    "# Fill Average in NULL value\n",
    "\n",
    "combined = combined.fillna(30, subset=['Age'])"
   ]
  },
  {
   "cell_type": "code",
   "execution_count": 33,
   "id": "ea11fda5-185b-4772-874b-94511dd3b4de",
   "metadata": {},
   "outputs": [],
   "source": [
    "groupped_embarked = spark.sql(\"SELECT Embarked, count(1) as count_it FROM combined GROUP BY Embarked ORDER BY count_it DESC\")"
   ]
  },
  {
   "cell_type": "code",
   "execution_count": 34,
   "id": "d5353a34-d830-43db-90a0-53b6a889d35b",
   "metadata": {},
   "outputs": [
    {
     "name": "stdout",
     "output_type": "stream",
     "text": [
      "+--------+--------+\n",
      "|Embarked|count_it|\n",
      "+--------+--------+\n",
      "|       S|    1288|\n",
      "|       C|     336|\n",
      "|       Q|     154|\n",
      "|    NULL|       4|\n",
      "+--------+--------+\n",
      "\n"
     ]
    }
   ],
   "source": [
    "groupped_embarked.show()"
   ]
  },
  {
   "cell_type": "code",
   "execution_count": 35,
   "id": "5f68cc41-a130-4321-ba88-e2b3808f75a9",
   "metadata": {},
   "outputs": [],
   "source": [
    "embarked_mode = groupped_embarked.collect()[0][0]"
   ]
  },
  {
   "cell_type": "code",
   "execution_count": 36,
   "id": "3779ef5d-58a9-4871-95b0-c0bcaec7af11",
   "metadata": {},
   "outputs": [
    {
     "name": "stdout",
     "output_type": "stream",
     "text": [
      "S\n"
     ]
    }
   ],
   "source": [
    "print(embarked_mode)"
   ]
  },
  {
   "cell_type": "code",
   "execution_count": 37,
   "id": "7018e315-e17d-41f5-be3d-76a19105873b",
   "metadata": {},
   "outputs": [],
   "source": [
    "combined = combined.fillna(embarked_mode, subset=[\"Embarked\"])"
   ]
  },
  {
   "cell_type": "code",
   "execution_count": 38,
   "id": "e0db1159-eff2-46a4-a32c-a4c9abafaddb",
   "metadata": {},
   "outputs": [
    {
     "name": "stdout",
     "output_type": "stream",
     "text": [
      "+-----------+--------+------+--------------------+------+----+-----+-----+----------------+-------+-----+--------+------+\n",
      "|PassengerId|Survived|Pclass|                Name|   Sex| Age|SibSp|Parch|          Ticket|   Fare|Cabin|Embarked| Title|\n",
      "+-----------+--------+------+--------------------+------+----+-----+-----+----------------+-------+-----+--------+------+\n",
      "|          1|       0|     3|Braund, Mr. Owen ...|  male|22.0|    1|    0|       A/5 21171|   7.25| NULL|       S|    Mr|\n",
      "|          2|       1|     1|Cumings, Mrs. Joh...|female|38.0|    1|    0|        PC 17599|71.2833|  C85|       C|   Mrs|\n",
      "|          3|       1|     3|Heikkinen, Miss. ...|female|26.0|    0|    0|STON/O2. 3101282|  7.925| NULL|       S|  Miss|\n",
      "|          4|       1|     1|Futrelle, Mrs. Ja...|female|35.0|    1|    0|          113803|   53.1| C123|       S|   Mrs|\n",
      "|          5|       0|     3|Allen, Mr. Willia...|  male|35.0|    0|    0|          373450|   8.05| NULL|       S|    Mr|\n",
      "|          6|       0|     3|    Moran, Mr. James|  male|30.0|    0|    0|          330877| 8.4583| NULL|       Q|    Mr|\n",
      "|          7|       0|     1|McCarthy, Mr. Tim...|  male|54.0|    0|    0|           17463|51.8625|  E46|       S|    Mr|\n",
      "|          8|       0|     3|Palsson, Master. ...|  male| 2.0|    3|    1|          349909| 21.075| NULL|       S|Master|\n",
      "|          9|       1|     3|Johnson, Mrs. Osc...|female|27.0|    0|    2|          347742|11.1333| NULL|       S|   Mrs|\n",
      "|         10|       1|     2|Nasser, Mrs. Nich...|female|14.0|    1|    0|          237736|30.0708| NULL|       C|   Mrs|\n",
      "+-----------+--------+------+--------------------+------+----+-----+-----+----------------+-------+-----+--------+------+\n",
      "only showing top 10 rows\n",
      "\n"
     ]
    }
   ],
   "source": [
    "combined.show(10)"
   ]
  },
  {
   "cell_type": "code",
   "execution_count": 39,
   "id": "e6b3a1d4-584e-4765-aeb9-a3d6b6ba8c13",
   "metadata": {},
   "outputs": [],
   "source": [
    "combined = combined.withColumn(\"Cabin\", combined.Cabin.substr(0, 1))"
   ]
  },
  {
   "cell_type": "code",
   "execution_count": 40,
   "id": "4132ab45-6186-4028-b4a5-e1331f6f91e7",
   "metadata": {},
   "outputs": [
    {
     "name": "stdout",
     "output_type": "stream",
     "text": [
      "+-----+--------+\n",
      "|Cabin|count_it|\n",
      "+-----+--------+\n",
      "| NULL|    1374|\n",
      "|    C|     118|\n",
      "|    B|      94|\n",
      "|    D|      66|\n",
      "|    E|      64|\n",
      "|    A|      30|\n",
      "|    F|      26|\n",
      "|    G|       8|\n",
      "|    T|       2|\n",
      "+-----+--------+\n",
      "\n"
     ]
    }
   ],
   "source": [
    "combined.createOrReplaceTempView('combined')\n",
    "groupped_cabin = spark.sql(\"SELECT Cabin,count(1) as count_it FROM combined GROUP BY Cabin ORDER BY count_it DESC\")\n",
    "groupped_cabin.show()"
   ]
  },
  {
   "cell_type": "code",
   "execution_count": 41,
   "id": "57d631e9-31ae-4a86-9dda-5338a2844943",
   "metadata": {},
   "outputs": [],
   "source": [
    "combined = combined.fillna('U', subset=['Cabin'])"
   ]
  },
  {
   "cell_type": "code",
   "execution_count": 42,
   "id": "4a410147-0c4d-42ec-940d-7e3a01368bfc",
   "metadata": {},
   "outputs": [],
   "source": [
    "combined = combined.withColumn(\"Faminly_size\", F.col('SibSp') + F.col('Parch'))"
   ]
  },
  {
   "cell_type": "code",
   "execution_count": 43,
   "id": "8dd533ea-0552-4867-9cb8-99cc4826adef",
   "metadata": {},
   "outputs": [
    {
     "name": "stdout",
     "output_type": "stream",
     "text": [
      "+-----------+--------+------+--------------------+------+----+-----+-----+----------------+-------+-----+--------+------+------------+\n",
      "|PassengerId|Survived|Pclass|                Name|   Sex| Age|SibSp|Parch|          Ticket|   Fare|Cabin|Embarked| Title|Faminly_size|\n",
      "+-----------+--------+------+--------------------+------+----+-----+-----+----------------+-------+-----+--------+------+------------+\n",
      "|          1|       0|     3|Braund, Mr. Owen ...|  male|22.0|    1|    0|       A/5 21171|   7.25|    U|       S|    Mr|           1|\n",
      "|          2|       1|     1|Cumings, Mrs. Joh...|female|38.0|    1|    0|        PC 17599|71.2833|    C|       C|   Mrs|           1|\n",
      "|          3|       1|     3|Heikkinen, Miss. ...|female|26.0|    0|    0|STON/O2. 3101282|  7.925|    U|       S|  Miss|           0|\n",
      "|          4|       1|     1|Futrelle, Mrs. Ja...|female|35.0|    1|    0|          113803|   53.1|    C|       S|   Mrs|           1|\n",
      "|          5|       0|     3|Allen, Mr. Willia...|  male|35.0|    0|    0|          373450|   8.05|    U|       S|    Mr|           0|\n",
      "|          6|       0|     3|    Moran, Mr. James|  male|30.0|    0|    0|          330877| 8.4583|    U|       Q|    Mr|           0|\n",
      "|          7|       0|     1|McCarthy, Mr. Tim...|  male|54.0|    0|    0|           17463|51.8625|    E|       S|    Mr|           0|\n",
      "|          8|       0|     3|Palsson, Master. ...|  male| 2.0|    3|    1|          349909| 21.075|    U|       S|Master|           4|\n",
      "|          9|       1|     3|Johnson, Mrs. Osc...|female|27.0|    0|    2|          347742|11.1333|    U|       S|   Mrs|           2|\n",
      "|         10|       1|     2|Nasser, Mrs. Nich...|female|14.0|    1|    0|          237736|30.0708|    U|       C|   Mrs|           1|\n",
      "+-----------+--------+------+--------------------+------+----+-----+-----+----------------+-------+-----+--------+------+------------+\n",
      "only showing top 10 rows\n",
      "\n"
     ]
    }
   ],
   "source": [
    "combined.show(10)"
   ]
  },
  {
   "cell_type": "code",
   "execution_count": 44,
   "id": "8d5f78c4-cd68-40c8-97f3-502c44d5cbaf",
   "metadata": {},
   "outputs": [
    {
     "name": "stderr",
     "output_type": "stream",
     "text": [
      "                                                                                \r"
     ]
    }
   ],
   "source": [
    "indexers = [StringIndexer(inputCol=column, outputCol=column+\"_index\").fit(combined) for column in [\"Sex\", \"Embarked\", \"Title\", \"Cabin\"]]"
   ]
  },
  {
   "cell_type": "code",
   "execution_count": 45,
   "id": "b8316d40-0b1f-44de-bff2-e17d599b7b37",
   "metadata": {},
   "outputs": [
    {
     "name": "stdout",
     "output_type": "stream",
     "text": [
      "+-----------+--------+------+--------------------+------+----+-----+-----+----------------+-------+-----+--------+------+------------+---------+--------------+-----------+-----------+\n",
      "|PassengerId|Survived|Pclass|                Name|   Sex| Age|SibSp|Parch|          Ticket|   Fare|Cabin|Embarked| Title|Faminly_size|Sex_index|Embarked_index|Title_index|Cabin_index|\n",
      "+-----------+--------+------+--------------------+------+----+-----+-----+----------------+-------+-----+--------+------+------------+---------+--------------+-----------+-----------+\n",
      "|          1|       0|     3|Braund, Mr. Owen ...|  male|22.0|    1|    0|       A/5 21171|   7.25|    U|       S|    Mr|           1|      0.0|           0.0|        0.0|        0.0|\n",
      "|          2|       1|     1|Cumings, Mrs. Joh...|female|38.0|    1|    0|        PC 17599|71.2833|    C|       C|   Mrs|           1|      1.0|           1.0|        2.0|        1.0|\n",
      "|          3|       1|     3|Heikkinen, Miss. ...|female|26.0|    0|    0|STON/O2. 3101282|  7.925|    U|       S|  Miss|           0|      1.0|           0.0|        1.0|        0.0|\n",
      "|          4|       1|     1|Futrelle, Mrs. Ja...|female|35.0|    1|    0|          113803|   53.1|    C|       S|   Mrs|           1|      1.0|           0.0|        2.0|        1.0|\n",
      "|          5|       0|     3|Allen, Mr. Willia...|  male|35.0|    0|    0|          373450|   8.05|    U|       S|    Mr|           0|      0.0|           0.0|        0.0|        0.0|\n",
      "|          6|       0|     3|    Moran, Mr. James|  male|30.0|    0|    0|          330877| 8.4583|    U|       Q|    Mr|           0|      0.0|           2.0|        0.0|        0.0|\n",
      "|          7|       0|     1|McCarthy, Mr. Tim...|  male|54.0|    0|    0|           17463|51.8625|    E|       S|    Mr|           0|      0.0|           0.0|        0.0|        4.0|\n",
      "|          8|       0|     3|Palsson, Master. ...|  male| 2.0|    3|    1|          349909| 21.075|    U|       S|Master|           4|      0.0|           0.0|        3.0|        0.0|\n",
      "|          9|       1|     3|Johnson, Mrs. Osc...|female|27.0|    0|    2|          347742|11.1333|    U|       S|   Mrs|           2|      1.0|           0.0|        2.0|        0.0|\n",
      "|         10|       1|     2|Nasser, Mrs. Nich...|female|14.0|    1|    0|          237736|30.0708|    U|       C|   Mrs|           1|      1.0|           1.0|        2.0|        0.0|\n",
      "+-----------+--------+------+--------------------+------+----+-----+-----+----------------+-------+-----+--------+------+------------+---------+--------------+-----------+-----------+\n",
      "only showing top 10 rows\n",
      "\n"
     ]
    }
   ],
   "source": [
    "pipeline = Pipeline(stages=indexers)\n",
    "combined = pipeline.fit(combined).transform(combined)\n",
    "\n",
    "combined.show(10)"
   ]
  },
  {
   "cell_type": "code",
   "execution_count": 46,
   "id": "7a891a48-33a4-4b87-9dff-a26073e7a7c9",
   "metadata": {},
   "outputs": [],
   "source": [
    "combined = combined.drop('Sex', 'PassengerId', 'Name', 'Title', 'SibSp', 'Parch', 'Ticket', 'Cabin', 'Embarked')"
   ]
  },
  {
   "cell_type": "code",
   "execution_count": 47,
   "id": "b6484cad-65ff-48ef-8c19-9a169818e2cc",
   "metadata": {},
   "outputs": [
    {
     "name": "stdout",
     "output_type": "stream",
     "text": [
      "+--------+------+----+-------+------------+---------+--------------+-----------+-----------+\n",
      "|Survived|Pclass| Age|   Fare|Faminly_size|Sex_index|Embarked_index|Title_index|Cabin_index|\n",
      "+--------+------+----+-------+------------+---------+--------------+-----------+-----------+\n",
      "|       0|     3|22.0|   7.25|           1|      0.0|           0.0|        0.0|        0.0|\n",
      "|       1|     1|38.0|71.2833|           1|      1.0|           1.0|        2.0|        1.0|\n",
      "|       1|     3|26.0|  7.925|           0|      1.0|           0.0|        1.0|        0.0|\n",
      "|       1|     1|35.0|   53.1|           1|      1.0|           0.0|        2.0|        1.0|\n",
      "|       0|     3|35.0|   8.05|           0|      0.0|           0.0|        0.0|        0.0|\n",
      "|       0|     3|30.0| 8.4583|           0|      0.0|           2.0|        0.0|        0.0|\n",
      "|       0|     1|54.0|51.8625|           0|      0.0|           0.0|        0.0|        4.0|\n",
      "|       0|     3| 2.0| 21.075|           4|      0.0|           0.0|        3.0|        0.0|\n",
      "|       1|     3|27.0|11.1333|           2|      1.0|           0.0|        2.0|        0.0|\n",
      "|       1|     2|14.0|30.0708|           1|      1.0|           1.0|        2.0|        0.0|\n",
      "+--------+------+----+-------+------------+---------+--------------+-----------+-----------+\n",
      "only showing top 10 rows\n",
      "\n"
     ]
    }
   ],
   "source": [
    "combined.show(10)"
   ]
  },
  {
   "cell_type": "code",
   "execution_count": 48,
   "id": "2101a5e5-b956-4d76-ae54-282ae1e5ff27",
   "metadata": {},
   "outputs": [],
   "source": [
    "combined_pandas = combined.toPandas()"
   ]
  },
  {
   "cell_type": "code",
   "execution_count": 49,
   "id": "940e555c-5b0b-448a-b768-d3392b3637b7",
   "metadata": {},
   "outputs": [
    {
     "data": {
      "text/html": [
       "<div>\n",
       "<style scoped>\n",
       "    .dataframe tbody tr th:only-of-type {\n",
       "        vertical-align: middle;\n",
       "    }\n",
       "\n",
       "    .dataframe tbody tr th {\n",
       "        vertical-align: top;\n",
       "    }\n",
       "\n",
       "    .dataframe thead th {\n",
       "        text-align: right;\n",
       "    }\n",
       "</style>\n",
       "<table border=\"1\" class=\"dataframe\">\n",
       "  <thead>\n",
       "    <tr style=\"text-align: right;\">\n",
       "      <th></th>\n",
       "      <th>Survived</th>\n",
       "      <th>Pclass</th>\n",
       "      <th>Age</th>\n",
       "      <th>Fare</th>\n",
       "      <th>Faminly_size</th>\n",
       "      <th>Sex_index</th>\n",
       "      <th>Embarked_index</th>\n",
       "      <th>Title_index</th>\n",
       "      <th>Cabin_index</th>\n",
       "    </tr>\n",
       "  </thead>\n",
       "  <tbody>\n",
       "    <tr>\n",
       "      <th>0</th>\n",
       "      <td>0</td>\n",
       "      <td>3</td>\n",
       "      <td>22.0</td>\n",
       "      <td>7.2500</td>\n",
       "      <td>1</td>\n",
       "      <td>0.0</td>\n",
       "      <td>0.0</td>\n",
       "      <td>0.0</td>\n",
       "      <td>0.0</td>\n",
       "    </tr>\n",
       "    <tr>\n",
       "      <th>1</th>\n",
       "      <td>1</td>\n",
       "      <td>1</td>\n",
       "      <td>38.0</td>\n",
       "      <td>71.2833</td>\n",
       "      <td>1</td>\n",
       "      <td>1.0</td>\n",
       "      <td>1.0</td>\n",
       "      <td>2.0</td>\n",
       "      <td>1.0</td>\n",
       "    </tr>\n",
       "    <tr>\n",
       "      <th>2</th>\n",
       "      <td>1</td>\n",
       "      <td>3</td>\n",
       "      <td>26.0</td>\n",
       "      <td>7.9250</td>\n",
       "      <td>0</td>\n",
       "      <td>1.0</td>\n",
       "      <td>0.0</td>\n",
       "      <td>1.0</td>\n",
       "      <td>0.0</td>\n",
       "    </tr>\n",
       "    <tr>\n",
       "      <th>3</th>\n",
       "      <td>1</td>\n",
       "      <td>1</td>\n",
       "      <td>35.0</td>\n",
       "      <td>53.1000</td>\n",
       "      <td>1</td>\n",
       "      <td>1.0</td>\n",
       "      <td>0.0</td>\n",
       "      <td>2.0</td>\n",
       "      <td>1.0</td>\n",
       "    </tr>\n",
       "    <tr>\n",
       "      <th>4</th>\n",
       "      <td>0</td>\n",
       "      <td>3</td>\n",
       "      <td>35.0</td>\n",
       "      <td>8.0500</td>\n",
       "      <td>0</td>\n",
       "      <td>0.0</td>\n",
       "      <td>0.0</td>\n",
       "      <td>0.0</td>\n",
       "      <td>0.0</td>\n",
       "    </tr>\n",
       "    <tr>\n",
       "      <th>...</th>\n",
       "      <td>...</td>\n",
       "      <td>...</td>\n",
       "      <td>...</td>\n",
       "      <td>...</td>\n",
       "      <td>...</td>\n",
       "      <td>...</td>\n",
       "      <td>...</td>\n",
       "      <td>...</td>\n",
       "      <td>...</td>\n",
       "    </tr>\n",
       "    <tr>\n",
       "      <th>1777</th>\n",
       "      <td>0</td>\n",
       "      <td>2</td>\n",
       "      <td>27.0</td>\n",
       "      <td>13.0000</td>\n",
       "      <td>0</td>\n",
       "      <td>0.0</td>\n",
       "      <td>0.0</td>\n",
       "      <td>4.0</td>\n",
       "      <td>0.0</td>\n",
       "    </tr>\n",
       "    <tr>\n",
       "      <th>1778</th>\n",
       "      <td>1</td>\n",
       "      <td>1</td>\n",
       "      <td>19.0</td>\n",
       "      <td>30.0000</td>\n",
       "      <td>0</td>\n",
       "      <td>1.0</td>\n",
       "      <td>0.0</td>\n",
       "      <td>1.0</td>\n",
       "      <td>2.0</td>\n",
       "    </tr>\n",
       "    <tr>\n",
       "      <th>1779</th>\n",
       "      <td>0</td>\n",
       "      <td>3</td>\n",
       "      <td>30.0</td>\n",
       "      <td>23.4500</td>\n",
       "      <td>3</td>\n",
       "      <td>1.0</td>\n",
       "      <td>0.0</td>\n",
       "      <td>1.0</td>\n",
       "      <td>0.0</td>\n",
       "    </tr>\n",
       "    <tr>\n",
       "      <th>1780</th>\n",
       "      <td>1</td>\n",
       "      <td>1</td>\n",
       "      <td>26.0</td>\n",
       "      <td>30.0000</td>\n",
       "      <td>0</td>\n",
       "      <td>0.0</td>\n",
       "      <td>1.0</td>\n",
       "      <td>0.0</td>\n",
       "      <td>1.0</td>\n",
       "    </tr>\n",
       "    <tr>\n",
       "      <th>1781</th>\n",
       "      <td>0</td>\n",
       "      <td>3</td>\n",
       "      <td>32.0</td>\n",
       "      <td>7.7500</td>\n",
       "      <td>0</td>\n",
       "      <td>0.0</td>\n",
       "      <td>2.0</td>\n",
       "      <td>0.0</td>\n",
       "      <td>0.0</td>\n",
       "    </tr>\n",
       "  </tbody>\n",
       "</table>\n",
       "<p>1782 rows × 9 columns</p>\n",
       "</div>"
      ],
      "text/plain": [
       "      Survived  Pclass   Age     Fare  Faminly_size  Sex_index  \\\n",
       "0            0       3  22.0   7.2500             1        0.0   \n",
       "1            1       1  38.0  71.2833             1        1.0   \n",
       "2            1       3  26.0   7.9250             0        1.0   \n",
       "3            1       1  35.0  53.1000             1        1.0   \n",
       "4            0       3  35.0   8.0500             0        0.0   \n",
       "...        ...     ...   ...      ...           ...        ...   \n",
       "1777         0       2  27.0  13.0000             0        0.0   \n",
       "1778         1       1  19.0  30.0000             0        1.0   \n",
       "1779         0       3  30.0  23.4500             3        1.0   \n",
       "1780         1       1  26.0  30.0000             0        0.0   \n",
       "1781         0       3  32.0   7.7500             0        0.0   \n",
       "\n",
       "      Embarked_index  Title_index  Cabin_index  \n",
       "0                0.0          0.0          0.0  \n",
       "1                1.0          2.0          1.0  \n",
       "2                0.0          1.0          0.0  \n",
       "3                0.0          2.0          1.0  \n",
       "4                0.0          0.0          0.0  \n",
       "...              ...          ...          ...  \n",
       "1777             0.0          4.0          0.0  \n",
       "1778             0.0          1.0          2.0  \n",
       "1779             0.0          1.0          0.0  \n",
       "1780             1.0          0.0          1.0  \n",
       "1781             2.0          0.0          0.0  \n",
       "\n",
       "[1782 rows x 9 columns]"
      ]
     },
     "execution_count": 49,
     "metadata": {},
     "output_type": "execute_result"
    }
   ],
   "source": [
    "combined_pandas"
   ]
  },
  {
   "cell_type": "code",
   "execution_count": 50,
   "id": "c3699faa-6a8e-4284-a267-dbdce5d75597",
   "metadata": {},
   "outputs": [],
   "source": [
    "train_pandas = combined_pandas[:train_count]\n",
    "test_pandas = combined_pandas[train_count:]"
   ]
  },
  {
   "cell_type": "code",
   "execution_count": 51,
   "id": "822cd707-d994-4f99-b9b5-b77e2181c1db",
   "metadata": {},
   "outputs": [],
   "source": [
    "train = spark.createDataFrame(train_pandas)\n",
    "test = spark.createDataFrame(test_pandas)\n",
    "test = test.drop('Survived')"
   ]
  },
  {
   "cell_type": "code",
   "execution_count": 52,
   "id": "92aba68d-8f9c-4eac-ab32-5dc137d3934b",
   "metadata": {},
   "outputs": [
    {
     "name": "stdout",
     "output_type": "stream",
     "text": [
      "+--------+------+----+-------+------------+---------+--------------+-----------+-----------+\n",
      "|Survived|Pclass| Age|   Fare|Faminly_size|Sex_index|Embarked_index|Title_index|Cabin_index|\n",
      "+--------+------+----+-------+------------+---------+--------------+-----------+-----------+\n",
      "|       0|     3|22.0|   7.25|           1|      0.0|           0.0|        0.0|        0.0|\n",
      "|       1|     1|38.0|71.2833|           1|      1.0|           1.0|        2.0|        1.0|\n",
      "|       1|     3|26.0|  7.925|           0|      1.0|           0.0|        1.0|        0.0|\n",
      "|       1|     1|35.0|   53.1|           1|      1.0|           0.0|        2.0|        1.0|\n",
      "|       0|     3|35.0|   8.05|           0|      0.0|           0.0|        0.0|        0.0|\n",
      "|       0|     3|30.0| 8.4583|           0|      0.0|           2.0|        0.0|        0.0|\n",
      "|       0|     1|54.0|51.8625|           0|      0.0|           0.0|        0.0|        4.0|\n",
      "|       0|     3| 2.0| 21.075|           4|      0.0|           0.0|        3.0|        0.0|\n",
      "|       1|     3|27.0|11.1333|           2|      1.0|           0.0|        2.0|        0.0|\n",
      "|       1|     2|14.0|30.0708|           1|      1.0|           1.0|        2.0|        0.0|\n",
      "+--------+------+----+-------+------------+---------+--------------+-----------+-----------+\n",
      "only showing top 10 rows\n",
      "\n",
      "+------+----+-------+------------+---------+--------------+-----------+-----------+\n",
      "|Pclass| Age|   Fare|Faminly_size|Sex_index|Embarked_index|Title_index|Cabin_index|\n",
      "+------+----+-------+------------+---------+--------------+-----------+-----------+\n",
      "|     3|22.0|   7.25|           1|      0.0|           0.0|        0.0|        0.0|\n",
      "|     1|38.0|71.2833|           1|      1.0|           1.0|        2.0|        1.0|\n",
      "|     3|26.0|  7.925|           0|      1.0|           0.0|        1.0|        0.0|\n",
      "|     1|35.0|   53.1|           1|      1.0|           0.0|        2.0|        1.0|\n",
      "|     3|35.0|   8.05|           0|      0.0|           0.0|        0.0|        0.0|\n",
      "|     3|30.0| 8.4583|           0|      0.0|           2.0|        0.0|        0.0|\n",
      "|     1|54.0|51.8625|           0|      0.0|           0.0|        0.0|        4.0|\n",
      "|     3| 2.0| 21.075|           4|      0.0|           0.0|        3.0|        0.0|\n",
      "|     3|27.0|11.1333|           2|      1.0|           0.0|        2.0|        0.0|\n",
      "|     2|14.0|30.0708|           1|      1.0|           1.0|        2.0|        0.0|\n",
      "+------+----+-------+------------+---------+--------------+-----------+-----------+\n",
      "only showing top 10 rows\n",
      "\n"
     ]
    }
   ],
   "source": [
    "train.show(10)\n",
    "test.show(10)"
   ]
  },
  {
   "cell_type": "code",
   "execution_count": 69,
   "id": "88541e1c-4647-4c1d-87c1-75fd784212ea",
   "metadata": {},
   "outputs": [
    {
     "name": "stdout",
     "output_type": "stream",
     "text": [
      "+------+----+-------+------------+---------+--------------+-----------+-----------+--------------------+\n",
      "|Pclass| Age|   Fare|Faminly_size|Sex_index|Embarked_index|Title_index|Cabin_index|            features|\n",
      "+------+----+-------+------------+---------+--------------+-----------+-----------+--------------------+\n",
      "|     3|22.0|   7.25|           1|      0.0|           0.0|        0.0|        0.0|(8,[0,1,2,3],[3.0...|\n",
      "|     1|38.0|71.2833|           1|      1.0|           1.0|        2.0|        1.0|[1.0,38.0,71.2833...|\n",
      "|     3|26.0|  7.925|           0|      1.0|           0.0|        1.0|        0.0|[3.0,26.0,7.925,0...|\n",
      "|     1|35.0|   53.1|           1|      1.0|           0.0|        2.0|        1.0|[1.0,35.0,53.1,1....|\n",
      "|     3|35.0|   8.05|           0|      0.0|           0.0|        0.0|        0.0|(8,[0,1,2],[3.0,3...|\n",
      "|     3|30.0| 8.4583|           0|      0.0|           2.0|        0.0|        0.0|(8,[0,1,2,5],[3.0...|\n",
      "|     1|54.0|51.8625|           0|      0.0|           0.0|        0.0|        4.0|(8,[0,1,2,7],[1.0...|\n",
      "|     3| 2.0| 21.075|           4|      0.0|           0.0|        3.0|        0.0|[3.0,2.0,21.075,4...|\n",
      "|     3|27.0|11.1333|           2|      1.0|           0.0|        2.0|        0.0|[3.0,27.0,11.1333...|\n",
      "|     2|14.0|30.0708|           1|      1.0|           1.0|        2.0|        0.0|[2.0,14.0,30.0708...|\n",
      "|     3| 4.0|   16.7|           2|      1.0|           0.0|        1.0|        7.0|[3.0,4.0,16.7,2.0...|\n",
      "|     1|58.0|  26.55|           0|      1.0|           0.0|        1.0|        1.0|[1.0,58.0,26.55,0...|\n",
      "|     3|20.0|   8.05|           0|      0.0|           0.0|        0.0|        0.0|(8,[0,1,2],[3.0,2...|\n",
      "|     3|39.0| 31.275|           6|      0.0|           0.0|        0.0|        0.0|(8,[0,1,2,3],[3.0...|\n",
      "|     3|14.0| 7.8542|           0|      1.0|           0.0|        1.0|        0.0|[3.0,14.0,7.8542,...|\n",
      "|     2|55.0|   16.0|           0|      1.0|           0.0|        2.0|        0.0|[2.0,55.0,16.0,0....|\n",
      "|     3| 2.0| 29.125|           5|      0.0|           2.0|        3.0|        0.0|[3.0,2.0,29.125,5...|\n",
      "|     2|30.0|   13.0|           0|      0.0|           0.0|        0.0|        0.0|(8,[0,1,2],[2.0,3...|\n",
      "|     3|31.0|   18.0|           1|      1.0|           0.0|        2.0|        0.0|[3.0,31.0,18.0,1....|\n",
      "|     3|30.0|  7.225|           0|      1.0|           1.0|        2.0|        0.0|[3.0,30.0,7.225,0...|\n",
      "+------+----+-------+------------+---------+--------------+-----------+-----------+--------------------+\n",
      "only showing top 20 rows\n",
      "\n"
     ]
    }
   ],
   "source": [
    "test_assembler = VectorAssembler(inputCols=test.columns,outputCol=\"features\")\n",
    "test_assembler_vector = test_assembler.transform(test)\n",
    "test_assembler_vector.show()"
   ]
  },
  {
   "cell_type": "code",
   "execution_count": 70,
   "id": "2da9e334-7b88-49fd-9f14-ded84f67543d",
   "metadata": {},
   "outputs": [],
   "source": [
    "# Split the data into train and test splits\n",
    "X_train, X_test = train_assembler_vector.randomSplit([0.8, 0.2], seed=11)"
   ]
  },
  {
   "cell_type": "code",
   "execution_count": 71,
   "id": "ba8aae1a-5cbd-4982-b2a5-d454a8e355b2",
   "metadata": {},
   "outputs": [
    {
     "name": "stdout",
     "output_type": "stream",
     "text": [
      "+--------+------+----+-------+------------+---------+--------------+-----------+-----------+--------------------+\n",
      "|Survived|Pclass| Age|   Fare|Faminly_size|Sex_index|Embarked_index|Title_index|Cabin_index|            features|\n",
      "+--------+------+----+-------+------------+---------+--------------+-----------+-----------+--------------------+\n",
      "|       0|     3|22.0|   7.25|           1|      0.0|           0.0|        0.0|        0.0|(8,[0,1,2,3],[3.0...|\n",
      "|       1|     1|38.0|71.2833|           1|      1.0|           1.0|        2.0|        1.0|[1.0,38.0,71.2833...|\n",
      "|       1|     3|26.0|  7.925|           0|      1.0|           0.0|        1.0|        0.0|[3.0,26.0,7.925,0...|\n",
      "|       1|     1|35.0|   53.1|           1|      1.0|           0.0|        2.0|        1.0|[1.0,35.0,53.1,1....|\n",
      "|       0|     3|35.0|   8.05|           0|      0.0|           0.0|        0.0|        0.0|(8,[0,1,2],[3.0,3...|\n",
      "|       0|     3|30.0| 8.4583|           0|      0.0|           2.0|        0.0|        0.0|(8,[0,1,2,5],[3.0...|\n",
      "|       0|     1|54.0|51.8625|           0|      0.0|           0.0|        0.0|        4.0|(8,[0,1,2,7],[1.0...|\n",
      "|       0|     3| 2.0| 21.075|           4|      0.0|           0.0|        3.0|        0.0|[3.0,2.0,21.075,4...|\n",
      "|       1|     3|27.0|11.1333|           2|      1.0|           0.0|        2.0|        0.0|[3.0,27.0,11.1333...|\n",
      "|       1|     2|14.0|30.0708|           1|      1.0|           1.0|        2.0|        0.0|[2.0,14.0,30.0708...|\n",
      "|       1|     3| 4.0|   16.7|           2|      1.0|           0.0|        1.0|        7.0|[3.0,4.0,16.7,2.0...|\n",
      "|       1|     1|58.0|  26.55|           0|      1.0|           0.0|        1.0|        1.0|[1.0,58.0,26.55,0...|\n",
      "|       0|     3|20.0|   8.05|           0|      0.0|           0.0|        0.0|        0.0|(8,[0,1,2],[3.0,2...|\n",
      "|       0|     3|39.0| 31.275|           6|      0.0|           0.0|        0.0|        0.0|(8,[0,1,2,3],[3.0...|\n",
      "|       0|     3|14.0| 7.8542|           0|      1.0|           0.0|        1.0|        0.0|[3.0,14.0,7.8542,...|\n",
      "|       1|     2|55.0|   16.0|           0|      1.0|           0.0|        2.0|        0.0|[2.0,55.0,16.0,0....|\n",
      "|       0|     3| 2.0| 29.125|           5|      0.0|           2.0|        3.0|        0.0|[3.0,2.0,29.125,5...|\n",
      "|       1|     2|30.0|   13.0|           0|      0.0|           0.0|        0.0|        0.0|(8,[0,1,2],[2.0,3...|\n",
      "|       0|     3|31.0|   18.0|           1|      1.0|           0.0|        2.0|        0.0|[3.0,31.0,18.0,1....|\n",
      "|       1|     3|30.0|  7.225|           0|      1.0|           1.0|        2.0|        0.0|[3.0,30.0,7.225,0...|\n",
      "+--------+------+----+-------+------------+---------+--------------+-----------+-----------+--------------------+\n",
      "only showing top 20 rows\n",
      "\n"
     ]
    }
   ],
   "source": [
    "# Put all columns into vectors. VectorAssembler is a transformer that combines a given list of columns into a single vector column.\n",
    "# It is useful for combining raw features and features generated by different feature transformers into a single feature verctor, \n",
    "# in order to train ML models.\n",
    "assembler = VectorAssembler(inputCols=train.columns[1:],outputCol=\"features\")\n",
    "train_assembler_vector = assembler.transform(train)\n",
    "train_assembler_vector.show()"
   ]
  },
  {
   "cell_type": "code",
   "execution_count": 72,
   "id": "0ed3cfdc-6d18-4aa1-b58c-11220cd215ed",
   "metadata": {},
   "outputs": [
    {
     "name": "stdout",
     "output_type": "stream",
     "text": [
      "+----------+--------+--------------------+\n",
      "|prediction|Survived|            features|\n",
      "+----------+--------+--------------------+\n",
      "|       0.0|       0|[1.0,45.0,83.475,...|\n",
      "|       0.0|       0|(8,[0,1,2,7],[1.0...|\n",
      "|       0.0|       0|(8,[0,1,2],[2.0,6...|\n",
      "|       0.0|       0|[3.0,2.0,21.075,4...|\n",
      "|       0.0|       0|[3.0,2.0,29.125,5...|\n",
      "|       0.0|       0|[3.0,7.0,39.6875,...|\n",
      "|       0.0|       0|[3.0,8.0,21.075,4...|\n",
      "|       1.0|       0|[3.0,18.0,17.8,1....|\n",
      "|       0.0|       0|(8,[0,1,2,5],[3.0...|\n",
      "|       0.0|       0|(8,[0,1,2,3],[3.0...|\n",
      "|       0.0|       0|(8,[0,1,2,5],[3.0...|\n",
      "|       0.0|       0|[3.0,30.0,15.5,1....|\n",
      "|       1.0|       0|[3.0,31.0,18.0,1....|\n",
      "|       1.0|       1|[1.0,38.0,71.2833...|\n",
      "|       1.0|       1|[2.0,3.0,41.5792,...|\n",
      "|       1.0|       1|[3.0,30.0,7.225,0...|\n",
      "|       1.0|       1|[3.0,30.0,7.8792,...|\n",
      "|       1.0|       0|[1.0,24.0,79.2,0....|\n",
      "|       0.0|       0|[1.0,54.0,77.2875...|\n",
      "|       1.0|       0|[3.0,14.5,14.4542...|\n",
      "+----------+--------+--------------------+\n",
      "only showing top 20 rows\n",
      "\n"
     ]
    }
   ],
   "source": [
    "# Random Forest Classifier model\n",
    "rf = RandomForestClassifier(featuresCol = 'features', labelCol = 'Survived')\n",
    "rfModel = rf.fit(X_train)\n",
    "predictions = rfModel.transform(X_test)\n",
    "predictions.select(\"prediction\", \"Survived\", \"features\").show()"
   ]
  },
  {
   "cell_type": "code",
   "execution_count": 73,
   "id": "c7cfcf04-0604-482c-b362-4d3764e60884",
   "metadata": {},
   "outputs": [
    {
     "name": "stdout",
     "output_type": "stream",
     "text": [
      "Accuracy : 0.834319526627219\n"
     ]
    }
   ],
   "source": [
    "# Evaluation\n",
    "evaluator = MulticlassClassificationEvaluator(labelCol=\"Survived\", predictionCol=\"prediction\", metricName=\"accuracy\")\n",
    "print(\"Accuracy : \" + str(evaluator.evaluate(predictions)))"
   ]
  },
  {
   "cell_type": "code",
   "execution_count": 74,
   "id": "c292e004-5d5d-4323-b2f5-2920c67ee645",
   "metadata": {},
   "outputs": [],
   "source": [
    "submission = pd.read_csv('./gender_submission.csv')"
   ]
  },
  {
   "cell_type": "code",
   "execution_count": 75,
   "id": "653cdc62-1e6d-4148-aa9a-4f64ed7e9fb6",
   "metadata": {},
   "outputs": [],
   "source": [
    "test = test.drop('Survived')"
   ]
  },
  {
   "cell_type": "code",
   "execution_count": 76,
   "id": "efd0ff74-76a1-47d7-b6ec-ba25ad17f3d1",
   "metadata": {},
   "outputs": [],
   "source": [
    "final_predictions = rfModel.transform(test_assembler_vector)\n",
    "final_predictions = final_predictions.toPandas()"
   ]
  },
  {
   "cell_type": "code",
   "execution_count": 77,
   "id": "08ec0fd6-9621-40e8-ba83-b0691b5343c9",
   "metadata": {},
   "outputs": [
    {
     "data": {
      "text/html": [
       "<div>\n",
       "<style scoped>\n",
       "    .dataframe tbody tr th:only-of-type {\n",
       "        vertical-align: middle;\n",
       "    }\n",
       "\n",
       "    .dataframe tbody tr th {\n",
       "        vertical-align: top;\n",
       "    }\n",
       "\n",
       "    .dataframe thead th {\n",
       "        text-align: right;\n",
       "    }\n",
       "</style>\n",
       "<table border=\"1\" class=\"dataframe\">\n",
       "  <thead>\n",
       "    <tr style=\"text-align: right;\">\n",
       "      <th></th>\n",
       "      <th>Pclass</th>\n",
       "      <th>Age</th>\n",
       "      <th>Fare</th>\n",
       "      <th>Faminly_size</th>\n",
       "      <th>Sex_index</th>\n",
       "      <th>Embarked_index</th>\n",
       "      <th>Title_index</th>\n",
       "      <th>Cabin_index</th>\n",
       "      <th>features</th>\n",
       "      <th>rawPrediction</th>\n",
       "      <th>probability</th>\n",
       "      <th>prediction</th>\n",
       "    </tr>\n",
       "  </thead>\n",
       "  <tbody>\n",
       "    <tr>\n",
       "      <th>0</th>\n",
       "      <td>3</td>\n",
       "      <td>22.0</td>\n",
       "      <td>7.2500</td>\n",
       "      <td>1</td>\n",
       "      <td>0.0</td>\n",
       "      <td>0.0</td>\n",
       "      <td>0.0</td>\n",
       "      <td>0.0</td>\n",
       "      <td>(3.0, 22.0, 7.25, 1.0, 0.0, 0.0, 0.0, 0.0)</td>\n",
       "      <td>[18.139448416999365, 1.8605515830006347]</td>\n",
       "      <td>[0.9069724208499682, 0.09302757915003174]</td>\n",
       "      <td>0.0</td>\n",
       "    </tr>\n",
       "    <tr>\n",
       "      <th>1</th>\n",
       "      <td>1</td>\n",
       "      <td>38.0</td>\n",
       "      <td>71.2833</td>\n",
       "      <td>1</td>\n",
       "      <td>1.0</td>\n",
       "      <td>1.0</td>\n",
       "      <td>2.0</td>\n",
       "      <td>1.0</td>\n",
       "      <td>[1.0, 38.0, 71.2833, 1.0, 1.0, 1.0, 2.0, 1.0]</td>\n",
       "      <td>[1.4350674702672797, 18.56493252973272]</td>\n",
       "      <td>[0.07175337351336399, 0.9282466264866359]</td>\n",
       "      <td>1.0</td>\n",
       "    </tr>\n",
       "    <tr>\n",
       "      <th>2</th>\n",
       "      <td>3</td>\n",
       "      <td>26.0</td>\n",
       "      <td>7.9250</td>\n",
       "      <td>0</td>\n",
       "      <td>1.0</td>\n",
       "      <td>0.0</td>\n",
       "      <td>1.0</td>\n",
       "      <td>0.0</td>\n",
       "      <td>[3.0, 26.0, 7.925, 0.0, 1.0, 0.0, 1.0, 0.0]</td>\n",
       "      <td>[8.570949674326, 11.429050325674002]</td>\n",
       "      <td>[0.4285474837163, 0.5714525162837001]</td>\n",
       "      <td>1.0</td>\n",
       "    </tr>\n",
       "    <tr>\n",
       "      <th>3</th>\n",
       "      <td>1</td>\n",
       "      <td>35.0</td>\n",
       "      <td>53.1000</td>\n",
       "      <td>1</td>\n",
       "      <td>1.0</td>\n",
       "      <td>0.0</td>\n",
       "      <td>2.0</td>\n",
       "      <td>1.0</td>\n",
       "      <td>[1.0, 35.0, 53.1, 1.0, 1.0, 0.0, 2.0, 1.0]</td>\n",
       "      <td>[1.4350674702672797, 18.56493252973272]</td>\n",
       "      <td>[0.07175337351336399, 0.9282466264866359]</td>\n",
       "      <td>1.0</td>\n",
       "    </tr>\n",
       "    <tr>\n",
       "      <th>4</th>\n",
       "      <td>3</td>\n",
       "      <td>35.0</td>\n",
       "      <td>8.0500</td>\n",
       "      <td>0</td>\n",
       "      <td>0.0</td>\n",
       "      <td>0.0</td>\n",
       "      <td>0.0</td>\n",
       "      <td>0.0</td>\n",
       "      <td>(3.0, 35.0, 8.05, 0.0, 0.0, 0.0, 0.0, 0.0)</td>\n",
       "      <td>[18.182382026140175, 1.8176179738598253]</td>\n",
       "      <td>[0.9091191013070088, 0.09088089869299126]</td>\n",
       "      <td>0.0</td>\n",
       "    </tr>\n",
       "    <tr>\n",
       "      <th>...</th>\n",
       "      <td>...</td>\n",
       "      <td>...</td>\n",
       "      <td>...</td>\n",
       "      <td>...</td>\n",
       "      <td>...</td>\n",
       "      <td>...</td>\n",
       "      <td>...</td>\n",
       "      <td>...</td>\n",
       "      <td>...</td>\n",
       "      <td>...</td>\n",
       "      <td>...</td>\n",
       "      <td>...</td>\n",
       "    </tr>\n",
       "    <tr>\n",
       "      <th>886</th>\n",
       "      <td>2</td>\n",
       "      <td>27.0</td>\n",
       "      <td>13.0000</td>\n",
       "      <td>0</td>\n",
       "      <td>0.0</td>\n",
       "      <td>0.0</td>\n",
       "      <td>4.0</td>\n",
       "      <td>0.0</td>\n",
       "      <td>(2.0, 27.0, 13.0, 0.0, 0.0, 0.0, 4.0, 0.0)</td>\n",
       "      <td>[15.018675305738828, 4.981324694261171]</td>\n",
       "      <td>[0.7509337652869414, 0.24906623471305855]</td>\n",
       "      <td>0.0</td>\n",
       "    </tr>\n",
       "    <tr>\n",
       "      <th>887</th>\n",
       "      <td>1</td>\n",
       "      <td>19.0</td>\n",
       "      <td>30.0000</td>\n",
       "      <td>0</td>\n",
       "      <td>1.0</td>\n",
       "      <td>0.0</td>\n",
       "      <td>1.0</td>\n",
       "      <td>2.0</td>\n",
       "      <td>[1.0, 19.0, 30.0, 0.0, 1.0, 0.0, 1.0, 2.0]</td>\n",
       "      <td>[1.4323963870403835, 18.56760361295962]</td>\n",
       "      <td>[0.07161981935201917, 0.9283801806479808]</td>\n",
       "      <td>1.0</td>\n",
       "    </tr>\n",
       "    <tr>\n",
       "      <th>888</th>\n",
       "      <td>3</td>\n",
       "      <td>30.0</td>\n",
       "      <td>23.4500</td>\n",
       "      <td>3</td>\n",
       "      <td>1.0</td>\n",
       "      <td>0.0</td>\n",
       "      <td>1.0</td>\n",
       "      <td>0.0</td>\n",
       "      <td>[3.0, 30.0, 23.45, 3.0, 1.0, 0.0, 1.0, 0.0]</td>\n",
       "      <td>[10.688253466593183, 9.31174653340682]</td>\n",
       "      <td>[0.534412673329659, 0.4655873266703409]</td>\n",
       "      <td>0.0</td>\n",
       "    </tr>\n",
       "    <tr>\n",
       "      <th>889</th>\n",
       "      <td>1</td>\n",
       "      <td>26.0</td>\n",
       "      <td>30.0000</td>\n",
       "      <td>0</td>\n",
       "      <td>0.0</td>\n",
       "      <td>1.0</td>\n",
       "      <td>0.0</td>\n",
       "      <td>1.0</td>\n",
       "      <td>[1.0, 26.0, 30.0, 0.0, 0.0, 1.0, 0.0, 1.0]</td>\n",
       "      <td>[8.53199605526219, 11.46800394473781]</td>\n",
       "      <td>[0.42659980276310955, 0.5734001972368905]</td>\n",
       "      <td>1.0</td>\n",
       "    </tr>\n",
       "    <tr>\n",
       "      <th>890</th>\n",
       "      <td>3</td>\n",
       "      <td>32.0</td>\n",
       "      <td>7.7500</td>\n",
       "      <td>0</td>\n",
       "      <td>0.0</td>\n",
       "      <td>2.0</td>\n",
       "      <td>0.0</td>\n",
       "      <td>0.0</td>\n",
       "      <td>(3.0, 32.0, 7.75, 0.0, 0.0, 2.0, 0.0, 0.0)</td>\n",
       "      <td>[17.435715459436725, 2.5642845405632744]</td>\n",
       "      <td>[0.8717857729718362, 0.1282142270281637]</td>\n",
       "      <td>0.0</td>\n",
       "    </tr>\n",
       "  </tbody>\n",
       "</table>\n",
       "<p>891 rows × 12 columns</p>\n",
       "</div>"
      ],
      "text/plain": [
       "     Pclass   Age     Fare  Faminly_size  Sex_index  Embarked_index  \\\n",
       "0         3  22.0   7.2500             1        0.0             0.0   \n",
       "1         1  38.0  71.2833             1        1.0             1.0   \n",
       "2         3  26.0   7.9250             0        1.0             0.0   \n",
       "3         1  35.0  53.1000             1        1.0             0.0   \n",
       "4         3  35.0   8.0500             0        0.0             0.0   \n",
       "..      ...   ...      ...           ...        ...             ...   \n",
       "886       2  27.0  13.0000             0        0.0             0.0   \n",
       "887       1  19.0  30.0000             0        1.0             0.0   \n",
       "888       3  30.0  23.4500             3        1.0             0.0   \n",
       "889       1  26.0  30.0000             0        0.0             1.0   \n",
       "890       3  32.0   7.7500             0        0.0             2.0   \n",
       "\n",
       "     Title_index  Cabin_index                                       features  \\\n",
       "0            0.0          0.0     (3.0, 22.0, 7.25, 1.0, 0.0, 0.0, 0.0, 0.0)   \n",
       "1            2.0          1.0  [1.0, 38.0, 71.2833, 1.0, 1.0, 1.0, 2.0, 1.0]   \n",
       "2            1.0          0.0    [3.0, 26.0, 7.925, 0.0, 1.0, 0.0, 1.0, 0.0]   \n",
       "3            2.0          1.0     [1.0, 35.0, 53.1, 1.0, 1.0, 0.0, 2.0, 1.0]   \n",
       "4            0.0          0.0     (3.0, 35.0, 8.05, 0.0, 0.0, 0.0, 0.0, 0.0)   \n",
       "..           ...          ...                                            ...   \n",
       "886          4.0          0.0     (2.0, 27.0, 13.0, 0.0, 0.0, 0.0, 4.0, 0.0)   \n",
       "887          1.0          2.0     [1.0, 19.0, 30.0, 0.0, 1.0, 0.0, 1.0, 2.0]   \n",
       "888          1.0          0.0    [3.0, 30.0, 23.45, 3.0, 1.0, 0.0, 1.0, 0.0]   \n",
       "889          0.0          1.0     [1.0, 26.0, 30.0, 0.0, 0.0, 1.0, 0.0, 1.0]   \n",
       "890          0.0          0.0     (3.0, 32.0, 7.75, 0.0, 0.0, 2.0, 0.0, 0.0)   \n",
       "\n",
       "                                rawPrediction  \\\n",
       "0    [18.139448416999365, 1.8605515830006347]   \n",
       "1     [1.4350674702672797, 18.56493252973272]   \n",
       "2        [8.570949674326, 11.429050325674002]   \n",
       "3     [1.4350674702672797, 18.56493252973272]   \n",
       "4    [18.182382026140175, 1.8176179738598253]   \n",
       "..                                        ...   \n",
       "886   [15.018675305738828, 4.981324694261171]   \n",
       "887   [1.4323963870403835, 18.56760361295962]   \n",
       "888    [10.688253466593183, 9.31174653340682]   \n",
       "889     [8.53199605526219, 11.46800394473781]   \n",
       "890  [17.435715459436725, 2.5642845405632744]   \n",
       "\n",
       "                                   probability  prediction  \n",
       "0    [0.9069724208499682, 0.09302757915003174]         0.0  \n",
       "1    [0.07175337351336399, 0.9282466264866359]         1.0  \n",
       "2        [0.4285474837163, 0.5714525162837001]         1.0  \n",
       "3    [0.07175337351336399, 0.9282466264866359]         1.0  \n",
       "4    [0.9091191013070088, 0.09088089869299126]         0.0  \n",
       "..                                         ...         ...  \n",
       "886  [0.7509337652869414, 0.24906623471305855]         0.0  \n",
       "887  [0.07161981935201917, 0.9283801806479808]         1.0  \n",
       "888    [0.534412673329659, 0.4655873266703409]         0.0  \n",
       "889  [0.42659980276310955, 0.5734001972368905]         1.0  \n",
       "890   [0.8717857729718362, 0.1282142270281637]         0.0  \n",
       "\n",
       "[891 rows x 12 columns]"
      ]
     },
     "execution_count": 77,
     "metadata": {},
     "output_type": "execute_result"
    }
   ],
   "source": [
    "final_predictions"
   ]
  },
  {
   "cell_type": "code",
   "execution_count": 78,
   "id": "3adbef12-4f62-4d22-9a8f-2b0f57ee1f35",
   "metadata": {},
   "outputs": [],
   "source": [
    "submission['Survived'] = final_predictions['prediction']"
   ]
  },
  {
   "cell_type": "code",
   "execution_count": 79,
   "id": "2cb0622f-d5d3-4bf8-8ebb-458d8c6620f4",
   "metadata": {},
   "outputs": [],
   "source": [
    "submission['Survived'] = submission['Survived'].astype(int)"
   ]
  },
  {
   "cell_type": "code",
   "execution_count": 80,
   "id": "854552f8-e44e-4bd1-85f0-cba52ff2d57a",
   "metadata": {},
   "outputs": [],
   "source": [
    "submission.to_csv(\"RF.csv\", index=False)"
   ]
  },
  {
   "cell_type": "code",
   "execution_count": null,
   "id": "d0192a74-7ff3-4636-b8f3-314ac59173a4",
   "metadata": {},
   "outputs": [],
   "source": []
  }
 ],
 "metadata": {
  "kernelspec": {
   "display_name": "Python 3 (ipykernel)",
   "language": "python",
   "name": "python3"
  },
  "language_info": {
   "codemirror_mode": {
    "name": "ipython",
    "version": 3
   },
   "file_extension": ".py",
   "mimetype": "text/x-python",
   "name": "python",
   "nbconvert_exporter": "python",
   "pygments_lexer": "ipython3",
   "version": "3.9.6"
  }
 },
 "nbformat": 4,
 "nbformat_minor": 5
}
